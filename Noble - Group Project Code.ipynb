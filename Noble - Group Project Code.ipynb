{
 "cells": [
  {
   "cell_type": "code",
   "execution_count": 1,
   "id": "ae747a09-0e46-4687-a54a-c14e73e27cf2",
   "metadata": {},
   "outputs": [
    {
     "name": "stderr",
     "output_type": "stream",
     "text": [
      "── \u001b[1mAttaching packages\u001b[22m ─────────────────────────────────────── tidyverse 1.3.1 ──\n",
      "\n",
      "\u001b[32m✔\u001b[39m \u001b[34mggplot2\u001b[39m 3.3.6     \u001b[32m✔\u001b[39m \u001b[34mpurrr  \u001b[39m 0.3.4\n",
      "\u001b[32m✔\u001b[39m \u001b[34mtibble \u001b[39m 3.1.7     \u001b[32m✔\u001b[39m \u001b[34mdplyr  \u001b[39m 1.0.9\n",
      "\u001b[32m✔\u001b[39m \u001b[34mtidyr  \u001b[39m 1.2.0     \u001b[32m✔\u001b[39m \u001b[34mstringr\u001b[39m 1.4.0\n",
      "\u001b[32m✔\u001b[39m \u001b[34mreadr  \u001b[39m 2.1.2     \u001b[32m✔\u001b[39m \u001b[34mforcats\u001b[39m 0.5.1\n",
      "\n",
      "── \u001b[1mConflicts\u001b[22m ────────────────────────────────────────── tidyverse_conflicts() ──\n",
      "\u001b[31m✖\u001b[39m \u001b[34mdplyr\u001b[39m::\u001b[32mfilter()\u001b[39m masks \u001b[34mstats\u001b[39m::filter()\n",
      "\u001b[31m✖\u001b[39m \u001b[34mdplyr\u001b[39m::\u001b[32mlag()\u001b[39m    masks \u001b[34mstats\u001b[39m::lag()\n",
      "\n",
      "── \u001b[1mAttaching packages\u001b[22m ────────────────────────────────────── tidymodels 1.0.0 ──\n",
      "\n",
      "\u001b[32m✔\u001b[39m \u001b[34mbroom       \u001b[39m 1.0.0     \u001b[32m✔\u001b[39m \u001b[34mrsample     \u001b[39m 1.0.0\n",
      "\u001b[32m✔\u001b[39m \u001b[34mdials       \u001b[39m 1.0.0     \u001b[32m✔\u001b[39m \u001b[34mtune        \u001b[39m 1.0.0\n",
      "\u001b[32m✔\u001b[39m \u001b[34minfer       \u001b[39m 1.0.2     \u001b[32m✔\u001b[39m \u001b[34mworkflows   \u001b[39m 1.0.0\n",
      "\u001b[32m✔\u001b[39m \u001b[34mmodeldata   \u001b[39m 1.0.0     \u001b[32m✔\u001b[39m \u001b[34mworkflowsets\u001b[39m 1.0.0\n",
      "\u001b[32m✔\u001b[39m \u001b[34mparsnip     \u001b[39m 1.0.0     \u001b[32m✔\u001b[39m \u001b[34myardstick   \u001b[39m 1.0.0\n",
      "\u001b[32m✔\u001b[39m \u001b[34mrecipes     \u001b[39m 1.0.1     \n",
      "\n",
      "── \u001b[1mConflicts\u001b[22m ───────────────────────────────────────── tidymodels_conflicts() ──\n",
      "\u001b[31m✖\u001b[39m \u001b[34mscales\u001b[39m::\u001b[32mdiscard()\u001b[39m masks \u001b[34mpurrr\u001b[39m::discard()\n",
      "\u001b[31m✖\u001b[39m \u001b[34mdplyr\u001b[39m::\u001b[32mfilter()\u001b[39m   masks \u001b[34mstats\u001b[39m::filter()\n",
      "\u001b[31m✖\u001b[39m \u001b[34mrecipes\u001b[39m::\u001b[32mfixed()\u001b[39m  masks \u001b[34mstringr\u001b[39m::fixed()\n",
      "\u001b[31m✖\u001b[39m \u001b[34mdplyr\u001b[39m::\u001b[32mlag()\u001b[39m      masks \u001b[34mstats\u001b[39m::lag()\n",
      "\u001b[31m✖\u001b[39m \u001b[34myardstick\u001b[39m::\u001b[32mspec()\u001b[39m masks \u001b[34mreadr\u001b[39m::spec()\n",
      "\u001b[31m✖\u001b[39m \u001b[34mrecipes\u001b[39m::\u001b[32mstep()\u001b[39m   masks \u001b[34mstats\u001b[39m::step()\n",
      "\u001b[34m•\u001b[39m Dig deeper into tidy modeling with R at \u001b[32mhttps://www.tmwr.org\u001b[39m\n",
      "\n",
      "\n",
      "Attaching package: ‘rvest’\n",
      "\n",
      "\n",
      "The following object is masked from ‘package:readr’:\n",
      "\n",
      "    guess_encoding\n",
      "\n",
      "\n"
     ]
    }
   ],
   "source": [
    "#Loading Packages\n",
    "library(tidyverse)\n",
    "library(repr)\n",
    "library(tidymodels)\n",
    "library(rvest)"
   ]
  },
  {
   "cell_type": "code",
   "execution_count": 2,
   "id": "9ea2d9e5-1e1f-4522-afb2-828683617070",
   "metadata": {},
   "outputs": [
    {
     "name": "stderr",
     "output_type": "stream",
     "text": [
      "\u001b[1mRows: \u001b[22m\u001b[34m1000\u001b[39m \u001b[1mColumns: \u001b[22m\u001b[34m8\u001b[39m\n",
      "\u001b[36m──\u001b[39m \u001b[1mColumn specification\u001b[22m \u001b[36m────────────────────────────────────────────────────────\u001b[39m\n",
      "\u001b[1mDelimiter:\u001b[22m \",\"\n",
      "\u001b[31mchr\u001b[39m (5): gender, race/ethnicity, parental level of education, lunch, test pr...\n",
      "\u001b[32mdbl\u001b[39m (3): math score, reading score, writing score\n",
      "\n",
      "\u001b[36mℹ\u001b[39m Use `spec()` to retrieve the full column specification for this data.\n",
      "\u001b[36mℹ\u001b[39m Specify the column types or set `show_col_types = FALSE` to quiet this message.\n"
     ]
    }
   ],
   "source": [
    "#Reading Data\n",
    "url <- \"http://roycekimmons.com/system/generate_data.php?dataset=exams&n=1000\"\n",
    "exam_data <- read_csv(url)\n",
    "colnames(exam_data) <- c(\"gender\", \"race_ethnicity\", \"parental_level_of_education\", \"lunch\", \"test_preparation_course\", \"math_score\", \"reading_score\", \"writing_score\")"
   ]
  },
  {
   "cell_type": "code",
   "execution_count": 3,
   "id": "615033eb-0bba-48cd-80c9-42fe30ba6ef5",
   "metadata": {},
   "outputs": [],
   "source": [
    "#Split\n",
    "exam_split <- exam_data %>%\n",
    "  initial_split(prop = 0.75, strata = writing_score)"
   ]
  },
  {
   "cell_type": "code",
   "execution_count": 4,
   "id": "9f77845e-af4a-4fb2-996f-7ef73438c124",
   "metadata": {},
   "outputs": [],
   "source": [
    "#Assigning Training Data\n",
    "exam_training <- exam_split %>%\n",
    "  training()"
   ]
  },
  {
   "cell_type": "code",
   "execution_count": 5,
   "id": "0e495891-692d-4b5e-b58f-86722be92b2e",
   "metadata": {},
   "outputs": [],
   "source": [
    "#Assigning Testing Data\n",
    "exam_testing <- exam_split %>%\n",
    "  testing()"
   ]
  },
  {
   "cell_type": "code",
   "execution_count": 6,
   "id": "fe82b76e-041c-4025-8074-4ddc99223eec",
   "metadata": {},
   "outputs": [],
   "source": [
    "#K-nn Regression Model Specificiation\n",
    "exam_spec <- nearest_neighbor(weight_func = \"rectangular\", neighbors = tune()) %>%\n",
    "  set_engine(\"kknn\") %>%\n",
    "  set_mode(\"regression\")"
   ]
  },
  {
   "cell_type": "code",
   "execution_count": 7,
   "id": "ae98769b-ae51-41f3-9644-01fac6fea8bc",
   "metadata": {},
   "outputs": [],
   "source": [
    "#Recipe with Standardization\n",
    "exam_recipe <- recipe(writing_score ~ reading_score, data = exam_training) %>%\n",
    "  step_scale(all_predictors()) %>%\n",
    "  step_center(all_predictors())"
   ]
  },
  {
   "cell_type": "code",
   "execution_count": 8,
   "id": "1fd34a6d-4a30-40a4-ad9e-3e2211f005bf",
   "metadata": {},
   "outputs": [],
   "source": [
    "#Cross Validation with 5 folds on training data\n",
    "exam_vfold <- exam_training %>%\n",
    "  vfold_cv(v = 5, strata = writing_score)"
   ]
  },
  {
   "cell_type": "code",
   "execution_count": 9,
   "id": "34ed0bad-77f3-488d-aa85-3cfd16a81c38",
   "metadata": {},
   "outputs": [],
   "source": [
    "#Creating workflow\n",
    "exam_workflow <- workflow() %>%\n",
    "  add_recipe(exam_recipe) %>%\n",
    "  add_model(exam_spec)"
   ]
  },
  {
   "cell_type": "code",
   "execution_count": 10,
   "id": "423a856c-a0e9-4986-a57c-1e76d251781d",
   "metadata": {},
   "outputs": [],
   "source": [
    "#Setting grid parameters\n",
    "gridvals <- tibble(neighbors = seq(from = 1, to = 200, by = 10))"
   ]
  },
  {
   "cell_type": "code",
   "execution_count": 12,
   "id": "1c972080-584f-4e17-9911-991114a5bee8",
   "metadata": {},
   "outputs": [],
   "source": [
    "#Collecting statistics from model\n",
    "exam_results <- exam_workflow %>%\n",
    "  tune_grid(resamples = exam_vfold, grid = gridvals) %>%\n",
    "  collect_metrics()"
   ]
  },
  {
   "cell_type": "code",
   "execution_count": 13,
   "id": "7d625e09-0247-4118-886b-f8b3f4489ff3",
   "metadata": {},
   "outputs": [
    {
     "data": {
      "text/html": [
       "<table class=\"dataframe\">\n",
       "<caption>A tibble: 1 × 7</caption>\n",
       "<thead>\n",
       "\t<tr><th scope=col>neighbors</th><th scope=col>.metric</th><th scope=col>.estimator</th><th scope=col>mean</th><th scope=col>n</th><th scope=col>std_err</th><th scope=col>.config</th></tr>\n",
       "\t<tr><th scope=col>&lt;dbl&gt;</th><th scope=col>&lt;chr&gt;</th><th scope=col>&lt;chr&gt;</th><th scope=col>&lt;dbl&gt;</th><th scope=col>&lt;int&gt;</th><th scope=col>&lt;dbl&gt;</th><th scope=col>&lt;chr&gt;</th></tr>\n",
       "</thead>\n",
       "<tbody>\n",
       "\t<tr><td>21</td><td>rmse</td><td>standard</td><td>5.034129</td><td>5</td><td>0.1595642</td><td>Preprocessor1_Model03</td></tr>\n",
       "</tbody>\n",
       "</table>\n"
      ],
      "text/latex": [
       "A tibble: 1 × 7\n",
       "\\begin{tabular}{lllllll}\n",
       " neighbors & .metric & .estimator & mean & n & std\\_err & .config\\\\\n",
       " <dbl> & <chr> & <chr> & <dbl> & <int> & <dbl> & <chr>\\\\\n",
       "\\hline\n",
       "\t 21 & rmse & standard & 5.034129 & 5 & 0.1595642 & Preprocessor1\\_Model03\\\\\n",
       "\\end{tabular}\n"
      ],
      "text/markdown": [
       "\n",
       "A tibble: 1 × 7\n",
       "\n",
       "| neighbors &lt;dbl&gt; | .metric &lt;chr&gt; | .estimator &lt;chr&gt; | mean &lt;dbl&gt; | n &lt;int&gt; | std_err &lt;dbl&gt; | .config &lt;chr&gt; |\n",
       "|---|---|---|---|---|---|---|\n",
       "| 21 | rmse | standard | 5.034129 | 5 | 0.1595642 | Preprocessor1_Model03 |\n",
       "\n"
      ],
      "text/plain": [
       "  neighbors .metric .estimator mean     n std_err   .config              \n",
       "1 21        rmse    standard   5.034129 5 0.1595642 Preprocessor1_Model03"
      ]
     },
     "metadata": {},
     "output_type": "display_data"
    }
   ],
   "source": [
    "#Finding the minimum RMSE (mean value)\n",
    "exam_min <- exam_results %>%\n",
    "  filter(.metric == \"rmse\") %>%\n",
    "  arrange(mean) %>%\n",
    "  slice(1)\n",
    "exam_min"
   ]
  },
  {
   "cell_type": "code",
   "execution_count": 14,
   "id": "6a9c38c7-9ff5-452c-b22c-a083e94ce0dc",
   "metadata": {},
   "outputs": [],
   "source": [
    "#Assigning optimal K value to an object\n",
    "k_min <- exam_min %>%\n",
    "  pull(neighbors)"
   ]
  },
  {
   "cell_type": "code",
   "execution_count": 15,
   "id": "9afa69c8-a9b8-4289-952b-9e456e550598",
   "metadata": {},
   "outputs": [],
   "source": [
    "#Creating an object that only includes \"rmse\" in .metric\n",
    "exam_results_cleanup <- exam_results %>%\n",
    "  filter(.metric == \"rmse\")"
   ]
  },
  {
   "cell_type": "code",
   "execution_count": 16,
   "id": "6c8a10c4-7d58-467d-ba80-e539fdb6fe7f",
   "metadata": {},
   "outputs": [
    {
     "data": {
      "image/png": "[encoded data removed]",
      "text/plain": [
       "plot without title"
      ]
     },
     "metadata": {
      "image/png": {
       "height": 420,
       "width": 420
      }
     },
     "output_type": "display_data"
    }
   ],
   "source": [
    "#Creating a plot with # of neighbors on x, rmse value on y.\n",
    "rmse_plot <- exam_results_cleanup %>%\n",
    "  ggplot(aes(x = neighbors, y = mean)) +\n",
    "  geom_point() +\n",
    "  geom_line() +\n",
    "  labs(x = \"Number of Neighbors (K value)\", y = \"RMSE value\") +\n",
    "  ggtitle(\"RMSE vs. Neighbors\")\n",
    "rmse_plot"
   ]
  },
  {
   "cell_type": "code",
   "execution_count": 17,
   "id": "b869be65-9ea5-4b06-9120-661764196d4a",
   "metadata": {},
   "outputs": [],
   "source": [
    "#Making new model specification, but now with the optimal K value\n",
    "exam_best_spec <- nearest_neighbor(weight_func = \"rectangular\", neighbors = 21) %>%\n",
    "  set_engine(\"kknn\") %>%\n",
    "  set_mode(\"regression\")"
   ]
  },
  {
   "cell_type": "code",
   "execution_count": 19,
   "id": "cd9adb2d-9a44-46da-9732-1191aaa7088b",
   "metadata": {},
   "outputs": [],
   "source": [
    "#New workflow\n",
    "exam_best_workflow <- workflow() %>%\n",
    "  add_recipe(exam_recipe) %>%\n",
    "  add_model(exam_best_spec) %>%\n",
    "  fit(data = exam_training)"
   ]
  },
  {
   "cell_type": "code",
   "execution_count": 20,
   "id": "b68a6974-cece-4a77-ad1f-178feb9fb9aa",
   "metadata": {},
   "outputs": [],
   "source": [
    "#Making prediction\n",
    "exam_predict <- exam_best_workflow %>%\n",
    "  predict(exam_testing) %>%\n",
    "  bind_cols(exam_testing)"
   ]
  },
  {
   "cell_type": "code",
   "execution_count": 21,
   "id": "e26ccf5e-5123-4498-b755-76f25b019064",
   "metadata": {},
   "outputs": [
    {
     "data": {
      "text/html": [
       "<table class=\"dataframe\">\n",
       "<caption>A tibble: 3 × 3</caption>\n",
       "<thead>\n",
       "\t<tr><th scope=col>.metric</th><th scope=col>.estimator</th><th scope=col>.estimate</th></tr>\n",
       "\t<tr><th scope=col>&lt;chr&gt;</th><th scope=col>&lt;chr&gt;</th><th scope=col>&lt;dbl&gt;</th></tr>\n",
       "</thead>\n",
       "<tbody>\n",
       "\t<tr><td>rmse</td><td>standard</td><td>5.0816578</td></tr>\n",
       "\t<tr><td>rsq </td><td>standard</td><td>0.8998321</td></tr>\n",
       "\t<tr><td>mae </td><td>standard</td><td>4.0682162</td></tr>\n",
       "</tbody>\n",
       "</table>\n"
      ],
      "text/latex": [
       "A tibble: 3 × 3\n",
       "\\begin{tabular}{lll}\n",
       " .metric & .estimator & .estimate\\\\\n",
       " <chr> & <chr> & <dbl>\\\\\n",
       "\\hline\n",
       "\t rmse & standard & 5.0816578\\\\\n",
       "\t rsq  & standard & 0.8998321\\\\\n",
       "\t mae  & standard & 4.0682162\\\\\n",
       "\\end{tabular}\n"
      ],
      "text/markdown": [
       "\n",
       "A tibble: 3 × 3\n",
       "\n",
       "| .metric &lt;chr&gt; | .estimator &lt;chr&gt; | .estimate &lt;dbl&gt; |\n",
       "|---|---|---|\n",
       "| rmse | standard | 5.0816578 |\n",
       "| rsq  | standard | 0.8998321 |\n",
       "| mae  | standard | 4.0682162 |\n",
       "\n"
      ],
      "text/plain": [
       "  .metric .estimator .estimate\n",
       "1 rmse    standard   5.0816578\n",
       "2 rsq     standard   0.8998321\n",
       "3 mae     standard   4.0682162"
      ]
     },
     "metadata": {},
     "output_type": "display_data"
    }
   ],
   "source": [
    "#Getting metrics\n",
    "exam_metrics <- exam_predict %>%\n",
    "  metrics(truth = writing_score, estimate = .pred)\n",
    "exam_metrics"
   ]
  }
 ],
 "metadata": {
  "kernelspec": {
   "display_name": "R",
   "language": "R",
   "name": "ir"
  },
  "language_info": {
   "codemirror_mode": "r",
   "file_extension": ".r",
   "mimetype": "text/x-r-source",
   "name": "R",
   "pygments_lexer": "r",
   "version": "4.1.3"
  }
 },
 "nbformat": 4,
 "nbformat_minor": 5
}
